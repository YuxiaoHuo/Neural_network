{
  "nbformat": 4,
  "nbformat_minor": 0,
  "metadata": {
    "colab": {
      "name": "NeuralNetwork.ipynb",
      "provenance": []
    },
    "kernelspec": {
      "name": "python3",
      "display_name": "Python 3"
    }
  },
  "cells": [
    {
      "cell_type": "code",
      "metadata": {
        "id": "ILHderQghXog",
        "colab_type": "code",
        "colab": {
          "base_uri": "https://localhost:8080/",
          "height": 354
        },
        "outputId": "c0d3a8c5-9c7d-4318-a5d4-f423822ba72c"
      },
      "source": [
        "pip install yfinance"
      ],
      "execution_count": 1,
      "outputs": [
        {
          "output_type": "stream",
          "text": [
            "Collecting yfinance\n",
            "  Downloading https://files.pythonhosted.org/packages/c2/31/8b374a12b90def92a4e27d0fc595fc43635f395984e36a075244d98bd265/yfinance-0.1.54.tar.gz\n",
            "Requirement already satisfied: pandas>=0.24 in /usr/local/lib/python3.6/dist-packages (from yfinance) (1.0.5)\n",
            "Requirement already satisfied: numpy>=1.15 in /usr/local/lib/python3.6/dist-packages (from yfinance) (1.18.5)\n",
            "Requirement already satisfied: requests>=2.20 in /usr/local/lib/python3.6/dist-packages (from yfinance) (2.23.0)\n",
            "Requirement already satisfied: multitasking>=0.0.7 in /usr/local/lib/python3.6/dist-packages (from yfinance) (0.0.9)\n",
            "Requirement already satisfied: python-dateutil>=2.6.1 in /usr/local/lib/python3.6/dist-packages (from pandas>=0.24->yfinance) (2.8.1)\n",
            "Requirement already satisfied: pytz>=2017.2 in /usr/local/lib/python3.6/dist-packages (from pandas>=0.24->yfinance) (2018.9)\n",
            "Requirement already satisfied: urllib3!=1.25.0,!=1.25.1,<1.26,>=1.21.1 in /usr/local/lib/python3.6/dist-packages (from requests>=2.20->yfinance) (1.24.3)\n",
            "Requirement already satisfied: certifi>=2017.4.17 in /usr/local/lib/python3.6/dist-packages (from requests>=2.20->yfinance) (2020.6.20)\n",
            "Requirement already satisfied: idna<3,>=2.5 in /usr/local/lib/python3.6/dist-packages (from requests>=2.20->yfinance) (2.10)\n",
            "Requirement already satisfied: chardet<4,>=3.0.2 in /usr/local/lib/python3.6/dist-packages (from requests>=2.20->yfinance) (3.0.4)\n",
            "Requirement already satisfied: six>=1.5 in /usr/local/lib/python3.6/dist-packages (from python-dateutil>=2.6.1->pandas>=0.24->yfinance) (1.15.0)\n",
            "Building wheels for collected packages: yfinance\n",
            "  Building wheel for yfinance (setup.py) ... \u001b[?25l\u001b[?25hdone\n",
            "  Created wheel for yfinance: filename=yfinance-0.1.54-py2.py3-none-any.whl size=22409 sha256=6dedb904811dd1c6e8a95110ae1b1e899cd13b43f72fb0f9027e19e0afb7d4b1\n",
            "  Stored in directory: /root/.cache/pip/wheels/f9/e3/5b/ec24dd2984b12d61e0abf26289746c2436a0e7844f26f2515c\n",
            "Successfully built yfinance\n",
            "Installing collected packages: yfinance\n",
            "Successfully installed yfinance-0.1.54\n"
          ],
          "name": "stdout"
        }
      ]
    },
    {
      "cell_type": "code",
      "metadata": {
        "id": "R3TlGOtchdrX",
        "colab_type": "code",
        "colab": {}
      },
      "source": [
        "import yfinance as yf\n",
        "import numpy as np"
      ],
      "execution_count": 2,
      "outputs": []
    },
    {
      "cell_type": "code",
      "metadata": {
        "id": "YeTjlZFmhhRD",
        "colab_type": "code",
        "colab": {}
      },
      "source": [
        "class dynamic_NN:\n",
        "\n",
        "  def __init__(self, X, Y, **kwargs):\n",
        "    \n",
        "    #usr should explicitly define layer0 to last layer\n",
        "    self.__NN_layer_dict = kwargs\n",
        "    self.__Y = Y\n",
        "    #theta is dict with 'layer0': 5*3 ...\n",
        "    self.__theta = self.construct_theta()\n",
        "    self.__forward_prop = {'layer0':X}\n",
        "    self.__m = len(Y)\n",
        "\n",
        "  def construct_theta(self):\n",
        "\n",
        "    theta = {}\n",
        "    epsilon_init = 0.12\n",
        "    for layer in range(len(self.__NN_layer_dict)-1):\n",
        "      theta['layer'+str(layer)] = np.random.rand(self.__NN_layer_dict['layer'+str(layer+1)], self.__NN_layer_dict['layer'+str(layer)]+1)*epsilon_init -epsilon_init\n",
        "\n",
        "    return theta\n",
        "\n",
        "  def activate(self,method,X):\n",
        "    #allow user to choose activation method in each layer from layer 1\n",
        "    if method == 'sigmoid':\n",
        "      result = 1/(1+np.exp(-1*X))\n",
        "\n",
        "    return result\n",
        "\n",
        "  ##add one to the layer\n",
        "  def add_ones(self,layer_X):\n",
        "\n",
        "    _,num_sample = np.shape(layer_X)\n",
        "    ones = np.ones((1,num_sample))\n",
        "    result_X = np.insert(layer_X,0,ones,axis=0)\n",
        "\n",
        "    return result_X\n",
        "\n",
        "  def forward_propagation(self,methods):\n",
        "\n",
        "    #for i = 1 to len(NN_dict)\n",
        "    for layer_num in range(1,len(self.__NN_layer_dict)):\n",
        "\n",
        "      #compute i layer using forward prop i-1\n",
        "      preparation = self.add_ones(self.__forward_prop['layer'+str(layer_num-1)])\n",
        "      Z_val = np.dot(self.__theta['layer'+str(layer_num-1)], preparation)\n",
        "\n",
        "      #allow user to choose activation method in each layer from layer 1\n",
        "      Activation = self.activate(methods['layer'+str(layer_num)],Z_val)\n",
        "\n",
        "      self.__forward_prop['layer'+str(layer_num)] = Activation\n",
        "  \n",
        "  def compute_cost(self, penalty_lambda):\n",
        "    \n",
        "    #compute last layer hypothesis\n",
        "    pos = len(self.__NN_layer_dict) - 1 #find the label of last layer\n",
        "    hypos = self.__forward_prop['layer'+str(pos)]\n",
        "\n",
        "    #compute logged hypothesis\n",
        "    log_hypos = np.log(hypos)\n",
        "\n",
        "    #compute sum theta sq\n",
        "    sum_theta_sq = 0\n",
        "    for layer in self.__NN_layer_dict:\n",
        "\n",
        "      temp = self.__NN_layer_dict[layer]\n",
        "      temp = np.square(temp)\n",
        "      sum_theta_sq = sum_theta_sq + np.sum(temp)\n",
        "\n",
        "    #compute regularization term\n",
        "    regularization = penalty_lambda/(2*self.__m)*sum_theta_sq\n",
        "    cost = -1/self.__m * (np.dot(self.__Y, log_hypos.transpose()) + np.dot(1-self.__Y, (1-log_hypos).transpose())) + regularization\n",
        "    \n",
        "    return cost\n",
        "\n",
        "  def sigmoid_gradient(self,Z):\n",
        "    \n",
        "    gradient = np.multiply(Z,1-Z)\n",
        "    return gradient\n",
        "\n",
        "  def backward_propagation(self,penalty_lambda):\n",
        "\n",
        "    pos = len(self.__NN_layer_dict) - 1 #find the label of last layer (if num-of-layer = 3, pos = 2) \n",
        "    hypos = self.__forward_prop['layer'+str(pos)] \n",
        "\n",
        "    delta_last_layer = self.__Y - hypos\n",
        "    delta = {'layer'+str(pos):delta_last_layer}\n",
        "\n",
        "    #from layer last-1 to 1 find delta(i.e from 1 to 1)\n",
        "    for layer in reversed(range(1,pos)):\n",
        "      delta_temp = np.dot(self.__theta['layer'+str(layer)][:,1:].transpose(), delta['layer'+str(layer+1)])\n",
        "    ##if method is not sigmoid, make an if statement to select right method\n",
        "      delta_temp = np.multiply(delta_temp, self.sigmoid_gradient(self.__forward_prop['layer'+str(layer)]))\n",
        "      delta['layer'+str(layer)] = delta_temp\n",
        "\n",
        "    gradient = {}\n",
        "    #i.e from 0 to 1\n",
        "    for layer in range(pos):\n",
        "      activation = self.add_ones(self.__forward_prop['layer'+str(layer)])\n",
        "      gradient_temp = 1/self.__m * np.dot(delta['layer'+str(layer+1)], activation.transpose())\n",
        "\n",
        "      theta_no_bias = self.__theta['layer'+str(layer)][:,1:]\n",
        "      gradient_temp[:,1:] = gradient_temp[:,1:] + penalty_lambda/self.__m* theta_no_bias\n",
        "\n",
        "      gradient['layer'+str(layer)] = gradient_temp\n",
        "\n",
        "    return gradient\n",
        "\n",
        "  def start_learning(self,**kwargs):\n",
        "\n",
        "    self.forward_propagation(kwargs)\n",
        "\n",
        "    return self.__forward_prop\n",
        "    \n",
        "\n",
        "  def get_NN_layer_dict(self):\n",
        "\n",
        "    print(self.__NN_layer_dict)\n",
        "\n",
        "  def get_theta(self):\n",
        "\n",
        "    print(self.__theta)\n",
        "  "
      ],
      "execution_count": 3,
      "outputs": []
    },
    {
      "cell_type": "code",
      "metadata": {
        "id": "INZboW9Ahw5B",
        "colab_type": "code",
        "colab": {}
      },
      "source": [
        "def handle_data(Y,*args):\n",
        "\n",
        "    def __set_Y(Y):\n",
        "    \n",
        "      Y[Y>0] = 1\n",
        "      Y[Y<0] = 0\n",
        "      return Y\n",
        "\n",
        "    Y = Y.to_numpy()\n",
        "    Y_reshaped = Y.reshape((1,len(Y)))\n",
        "    Y_reshaped = (Y_reshaped-Y_reshaped.mean())/np.std(Y_reshaped)\n",
        "    final_Y = __set_Y(Y_reshaped)\n",
        "    ##get empty x array\n",
        "    X = np.array([])\n",
        "    for arg in args:\n",
        "\n",
        "      arg = arg.to_numpy()\n",
        "      arg_reshaped = arg.reshape((1,len(arg)))\n",
        "      arg_reshaped = (arg_reshaped-arg_reshaped.mean())/np.std(arg_reshaped)\n",
        "      X = np.append(X,[arg_reshaped])\n",
        "\n",
        "    #reshape the appended x to the shape we want\n",
        "    X_reshaped = X.reshape((len(args),len(Y)))\n",
        "\n",
        "    return X_reshaped,Y_reshaped"
      ],
      "execution_count": 4,
      "outputs": []
    },
    {
      "cell_type": "code",
      "metadata": {
        "id": "L9eK_Snfh1EM",
        "colab_type": "code",
        "colab": {
          "base_uri": "https://localhost:8080/",
          "height": 50
        },
        "outputId": "eae99725-ad24-4fb2-e522-c572a13acf99"
      },
      "source": [
        "start = '2012-12-10'\n",
        "end = '2012-12-30'\n",
        "Y = yf.download('AAPL',start=start,end=end,interval='1d')['Adj Close']\n",
        "X = yf.download('^GSPC',start=start,end=end,interval='1d')\n",
        "X_price = X['Adj Close']\n",
        "X_vol = X['Volume']\n",
        "X_open = X['Open']"
      ],
      "execution_count": 6,
      "outputs": [
        {
          "output_type": "stream",
          "text": [
            "[*********************100%***********************]  1 of 1 completed\n",
            "[*********************100%***********************]  1 of 1 completed\n"
          ],
          "name": "stdout"
        }
      ]
    },
    {
      "cell_type": "code",
      "metadata": {
        "id": "DXRtG7Nyh687",
        "colab_type": "code",
        "colab": {}
      },
      "source": [
        "x,y = handle_data(Y,X_open,X_price,X_vol)"
      ],
      "execution_count": 7,
      "outputs": []
    },
    {
      "cell_type": "code",
      "metadata": {
        "id": "sRIekn3Xh87e",
        "colab_type": "code",
        "colab": {}
      },
      "source": [
        "test_case = dynamic_NN(x,y,layer0 = 3,layer1=4,layer2=4,layer3=1)"
      ],
      "execution_count": 8,
      "outputs": []
    },
    {
      "cell_type": "code",
      "metadata": {
        "id": "i1MILOa7h-xv",
        "colab_type": "code",
        "colab": {
          "base_uri": "https://localhost:8080/",
          "height": 624
        },
        "outputId": "5b9c157c-5f4b-4f2b-9dff-4ba8131f99a4"
      },
      "source": [
        "test_case.start_learning(layer1 = 'sigmoid',layer2 = 'sigmoid', layer3 = 'sigmoid')"
      ],
      "execution_count": 9,
      "outputs": [
        {
          "output_type": "execute_result",
          "data": {
            "text/plain": [
              "{'layer0': array([[-0.9251776 , -0.87520186,  0.09182188,  0.15844351, -0.78152751,\n",
              "         -1.39671334,  0.36558936,  2.06440901,  0.92145997,  1.73963654,\n",
              "          0.3322849 , -0.03100181, -0.74197132, -0.92205174],\n",
              "        [-0.64339179,  0.17683339,  0.23334156, -0.56393763, -1.08221113,\n",
              "          0.39933091,  1.84997292,  0.88052868,  1.57625915,  0.38079304,\n",
              "          0.07265489, -0.53038624, -0.68312965, -2.0666581 ],\n",
              "        [-0.33102449,  0.37678773,  0.44076055,  0.05021309, -0.10182297,\n",
              "          0.16511838,  1.08591594,  0.61559278,  0.4163221 ,  2.09403717,\n",
              "         -2.23484139, -1.10800827, -0.51510134, -0.95394926]]),\n",
              " 'layer1': array([[0.53663839, 0.49766077, 0.47845925, 0.50576524, 0.53688426,\n",
              "         0.5078168 , 0.42118689, 0.4271351 , 0.43702409, 0.40073552,\n",
              "         0.5559602 , 0.54202287, 0.53979915, 0.58441598],\n",
              "        [0.49246286, 0.47255625, 0.46139975, 0.47564658, 0.49341333,\n",
              "         0.47780416, 0.43061526, 0.43175468, 0.43713894, 0.42189217,\n",
              "         0.49615798, 0.49237116, 0.49354668, 0.518169  ],\n",
              "        [0.51497976, 0.50153941, 0.47542325, 0.48243069, 0.51150517,\n",
              "         0.51594264, 0.45219149, 0.41918515, 0.4463017 , 0.41552907,\n",
              "         0.49757213, 0.49903858, 0.51234422, 0.52972961],\n",
              "        [0.50580364, 0.47612548, 0.45788697, 0.47756275, 0.50415819,\n",
              "         0.48666289, 0.4153462 , 0.4126404 , 0.42602397, 0.39025585,\n",
              "         0.52089679, 0.50824217, 0.50780503, 0.54110013]]),\n",
              " 'layer2': array([[0.44512326, 0.44658095, 0.44785315, 0.44689495, 0.44520266,\n",
              "         0.44589954, 0.45011057, 0.4508792 , 0.44984959, 0.451675  ,\n",
              "         0.44513642, 0.44544614, 0.44511401, 0.44336668],\n",
              "        [0.4537824 , 0.45601228, 0.45727942, 0.45574618, 0.45380998,\n",
              "         0.45532947, 0.4605691 , 0.4605401 , 0.45975476, 0.46203315,\n",
              "         0.45284073, 0.45361436, 0.45363125, 0.45105947],\n",
              "        [0.45895119, 0.45980479, 0.46066454, 0.46012757, 0.45903669,\n",
              "         0.45932959, 0.4619807 , 0.46264798, 0.46188343, 0.46313282,\n",
              "         0.45902606, 0.45921962, 0.4589633 , 0.45794668],\n",
              "        [0.45235105, 0.45453039, 0.45615448, 0.45470336, 0.45245054,\n",
              "         0.45364629, 0.45943827, 0.46010446, 0.45886458, 0.46146465,\n",
              "         0.45189626, 0.45253434, 0.45227627, 0.44973184]]),\n",
              " 'layer3': array([[0.45565282, 0.45549302, 0.45537199, 0.45547835, 0.45564568,\n",
              "         0.45555861, 0.45513033, 0.45507823, 0.45517086, 0.45498067,\n",
              "         0.45568159, 0.45563681, 0.4556578 , 0.45584545]])}"
            ]
          },
          "metadata": {
            "tags": []
          },
          "execution_count": 9
        }
      ]
    },
    {
      "cell_type": "code",
      "metadata": {
        "id": "xAU0Xv4xiAm7",
        "colab_type": "code",
        "colab": {
          "base_uri": "https://localhost:8080/",
          "height": 34
        },
        "outputId": "67a4543a-71d5-4940-ce26-266741bcd65b"
      },
      "source": [
        "test_case.compute_cost(1)"
      ],
      "execution_count": 10,
      "outputs": [
        {
          "output_type": "execute_result",
          "data": {
            "text/plain": [
              "array([[11.42941578]])"
            ]
          },
          "metadata": {
            "tags": []
          },
          "execution_count": 10
        }
      ]
    },
    {
      "cell_type": "code",
      "metadata": {
        "id": "0sBfdZ9wiD4c",
        "colab_type": "code",
        "colab": {
          "base_uri": "https://localhost:8080/",
          "height": 169
        },
        "outputId": "b50c44bc-4d60-43e0-b389-f0d54f84e0a8"
      },
      "source": [
        "test_case.backward_propagation(1)"
      ],
      "execution_count": 11,
      "outputs": [
        {
          "output_type": "execute_result",
          "data": {
            "text/plain": [
              "{'layer0': array([[-0.00059152, -0.06526627, -0.08208947, -0.11335439],\n",
              "        [-0.00048459, -0.03886258, -0.0468434 , -0.04985702],\n",
              "        [-0.00067953, -0.10241573, -0.02031364, -0.03698147],\n",
              "        [-0.00057959, -0.06466375, -0.05426893, -0.09339349]]),\n",
              " 'layer1': array([[ 0.0105928 , -0.05842312, -0.05953742, -0.10025483, -0.00998055],\n",
              "        [ 0.00826097, -0.09740671, -0.07312332, -0.00370429, -0.10348392],\n",
              "        [ 0.0090555 ,  0.0031882 , -0.01819317, -0.07233361, -0.05219031],\n",
              "        [ 0.00832594, -0.10291153, -0.03515285, -0.09043696, -0.07557158]]),\n",
              " 'layer2': array([[-0.3763822 , -0.27781799, -0.25368912, -0.2672951 , -0.25388121]])}"
            ]
          },
          "metadata": {
            "tags": []
          },
          "execution_count": 11
        }
      ]
    },
    {
      "cell_type": "code",
      "metadata": {
        "id": "b3rTLOCaiFs2",
        "colab_type": "code",
        "colab": {}
      },
      "source": [
        ""
      ],
      "execution_count": null,
      "outputs": []
    }
  ]
}